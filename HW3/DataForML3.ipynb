{
  "cells": [
    {
      "cell_type": "markdown",
      "metadata": {
        "id": "DnhRiBOjters"
      },
      "source": [
        "Цель:\n",
        "Проанализировать вакансии на предмет их релевантности для специалиста \"Фронтенд-разработчик\".\n",
        "\n",
        "Задача:\n",
        "Для каждой профессии в датасете определить, подходит ли она для человека, ищущего работу по направлению \"Фронтенд-разработка\" (включая смежные и специализированные направления, связанные с созданием пользовательских интерфейсов, веб-разработкой, UI/UX).\n",
        "\n",
        "Входные данные:\n",
        "Файл с колонками:\n",
        "\n",
        "title — название профессии или вакансии.\n",
        "\n",
        "annotator_relevant — поле, которое необходимо заполнить аннотаторам.\n",
        "\n",
        "relevant — скрытая \"истинная\" метка (используется для валидации).\n",
        "\n",
        "Выходные метки:\n",
        "1 (relevant) — профессия напрямую связана с фронтенд-разработкой: программирование интерфейсов, верстка, JavaScript/HTML/CSS, React, Vue, UI/UX, веб-приложения и т.п.\n",
        "\n",
        "0 (not_relevant) — профессия не связана с фронтендом: менеджмент, DevOps, бекенд, аналитика, тестирование, системное администрирование, digital-маркетинг, прочие.\n",
        "\n",
        "Инструкция:\n",
        "Прочитайте внимательно значение в поле title. На его основе решите:\n",
        "\n",
        "Ставьте метку 1, если:\n",
        "\n",
        "Это фронтенд-разработчик или близкий синоним (например: Web Developer, UI Developer, React Developer).\n",
        "\n",
        "Это специалист по HTML/CSS/JS/React, дизайнер, UX/UI с упором на веб-интерфейсы.\n",
        "\n",
        "Это фуллстек, но с выраженной обязанностью по фронтенду (в названии есть “Frontend” или \"Web\").\n",
        "\n",
        "Ставьте метку 0, если:\n",
        "\n",
        "Профессия не связана с веб-разработкой (например, “Data Scientist”, “DevOps Engineer”, “Product Manager”, “SEO Specialist”).\n",
        "\n",
        "В названии присутствует слово \"Developer\", но это не про веб или интерфейсы (например: “Android Developer”, “Embedded Engineer”, “Machine Learning Engineer”).\n",
        "\n",
        "Смежная специальность (например: “Graphic Designer”, если нет акцента на UI; “Project Manager” даже в IT-команде).\n",
        "\n",
        "В случае сомнений:\n",
        "\n",
        "Оценивайте, будет ли специалист-фронтендер считать вакансию своей.\n",
        "\n",
        "Лучше ошибиться в сторону \"0\", если вакансия не явно про фронтенд.\n",
        "\n",
        "Валидация:\n",
        "В датасет добавлены тестовые кейсы с заранее известной релевантностью (столбец relevant).\n",
        "\n",
        "После аннотации метки будут сравниваться с истинными значениями.\n",
        "\n",
        "Метрика качества — точность разметки на тестовых кейсах и/или согласованность между двумя аннотаторами (например, через Cohen's Kappa).\n",
        "\n",
        "Примеры:\n",
        "\n",
        "title\tannotator_relevant\tПояснение\n",
        "Frontend Developer\t1\tПрямо по профилю\n",
        "Web Designer\t1\tУпор на веб-интерфейсы\n",
        "Data Scientist\t0\tНе связана с фронтендом\n",
        "Product Manager\t0\tРуководящая, не техническая\n",
        "UI Developer\t1\tВходит в сферу фронтенда\n",
        "Android Developer\t0\tМобильная разработка\n"
      ]
    },
    {
      "cell_type": "code",
      "execution_count": 11,
      "metadata": {
        "colab": {
          "base_uri": "https://localhost:8080/"
        },
        "id": "hXTTAZBcs7vb",
        "outputId": "51098b2e-2302-4dcd-a627-2a7dfb9ff307"
      },
      "outputs": [
        {
          "name": "stdout",
          "output_type": "stream",
          "text": [
            "✅ Файл сохранён как frontend_dataset_with_test_cases.csv\n"
          ]
        }
      ],
      "source": [
        "import pandas as pd\n",
        "\n",
        "df = pd.read_csv(\"frontend_dataset.csv\")\n",
        "\n",
        "test_cases = [\n",
        "    {\"title\": \"(Test Case) Frontend Developer\", \"relevant\": 1, \"annotator_relevant\": 1},\n",
        "    {\"title\": \"(Test Case) Backend Developer\", \"relevant\": 0, \"annotator_relevant\": 0},\n",
        "    {\"title\": \"(Test Case) Web Developer\", \"relevant\": 1, \"annotator_relevant\": 1},\n",
        "    {\"title\": \"(Test Case) Plumber\", \"relevant\": 0, \"annotator_relevant\": 0},\n",
        "    {\"title\": \"(Test Case) JavaScript Developer\", \"relevant\": 1, \"annotator_relevant\": 1}\n",
        "]\n",
        "\n",
        "test_df = pd.DataFrame(test_cases)\n",
        "df = pd.concat([df, test_df], ignore_index=True)\n",
        "\n",
        "df.to_csv(\"frontend_dataset_with_test_cases.csv\", index=False)\n"
      ]
    },
    {
      "cell_type": "code",
      "execution_count": null,
      "metadata": {
        "colab": {
          "base_uri": "https://localhost:8080/"
        },
        "id": "4zokrtsw-Qyz",
        "outputId": "c95b2e0e-f5d1-4d9f-abd8-d5faabcc874b"
      },
      "outputs": [
        {
          "name": "stdout",
          "output_type": "stream",
          "text": [
            "Пустые значения в столбцах:\n",
            "title                 0\n",
            "relevant              0\n",
            "annotator_relevant    0\n",
            "dtype: int64\n",
            "\n",
            "Количество дубликатов в датасете: 0\n",
            "\n",
            "Некорректные аннотации (когда разметка аннотатора отличается от правильной): 19\n",
            "                               title  relevant  annotator_relevant\n",
            "7                      UX Researcher         0                 1.0\n",
            "9         UI Implementation Engineer         1                 0.0\n",
            "31                 Angular Developer         1                 0.0\n",
            "39                   Unity Developer         0                 1.0\n",
            "40   Static Site Generator Developer         1                 0.0\n",
            "116         Email Template Developer         1                 0.0\n",
            "133             Full Stack Developer         0                 1.0\n",
            "136               Character Designer         0                 1.0\n",
            "186               Creative Developer         1                 0.0\n",
            "199                   SPAs Developer         1                 0.0\n",
            "219      Browser Extension Developer         1                 0.0\n",
            "228             Webpack Configurator         1                 0.0\n",
            "231               JAMstack Developer         1                 0.0\n",
            "236           Accessibility Engineer         1                 0.0\n",
            "256          Headless CMS Integrator         1                 0.0\n",
            "264                Design Integrator         1                 0.0\n",
            "291             Mobile Web Developer         1                 0.0\n",
            "305     Cross-platform Web Developer         1                 0.0\n",
            "307         Single Page App Engineer         1                 0.0\n",
            "\n",
            "Коэффициент Каппы между аннотатором и правильной разметкой: 1.0\n",
            "\n",
            "✅ Очищенный датасет сохранён как cleaned_frontend_dataset.csv\n"
          ]
        }
      ],
      "source": [
        "import pandas as pd\n",
        "from sklearn.metrics import cohen_kappa_score\n",
        "\n",
        "df = pd.read_csv(\"annotated_frontend_professions.csv\")\n",
        "\n",
        "# 1. Проверка на наличие пустых значений в ключевых столбцах\n",
        "print(\"Пустые значения в столбцах:\")\n",
        "print(df.isnull().sum())\n",
        "\n",
        "df_cleaned = df.dropna(subset=[\"title\", \"relevant\", \"annotator_relevant\"])\n",
        "\n",
        "# 2. Проверка на дубликаты\n",
        "print(f\"\\nКоличество дубликатов в датасете: {df_cleaned.duplicated().sum()}\")\n",
        "\n",
        "df_cleaned = df_cleaned.drop_duplicates()\n",
        "\n",
        "# 3. Анализ некорректных меток\n",
        "incorrect_annotations = df_cleaned[df_cleaned[\"relevant\"] != df_cleaned[\"annotator_relevant\"]]\n",
        "print(f\"\\nНекорректные аннотации: {len(incorrect_annotations)}\")\n",
        "print(incorrect_annotations)\n",
        "\n",
        "# 4. Оценка согласованности с использованием коэффициента Каппы (для тестовых кейсов)\n",
        "test_cases = df_cleaned[df_cleaned[\"title\"].isin([\"Frontend Developer\", \"Backend Developer\", \"Web Developer\", \"Plumber\", \"JavaScript Developer\"])]\n",
        "annotator_1 = test_cases[\"relevant\"].tolist()\n",
        "annotator_2 = test_cases[\"annotator_relevant\"].tolist()\n",
        "\n",
        "kappa_score = cohen_kappa_score(annotator_1, annotator_2)\n",
        "print(f\"\\nКоэффициент Каппы: {kappa_score}\")\n",
        "\n",
        "# 5. Дополнительная очистка данных\n",
        "df_cleaned = df_cleaned[~df_cleaned[\"title\"].isin(incorrect_annotations[\"title\"])]\n",
        "\n",
        "df_cleaned.to_csv(\"cleaned_frontend_dataset.csv\", index=False)"
      ]
    }
  ],
  "metadata": {
    "colab": {
      "provenance": []
    },
    "kernelspec": {
      "display_name": "Python 3",
      "name": "python3"
    },
    "language_info": {
      "name": "python"
    }
  },
  "nbformat": 4,
  "nbformat_minor": 0
}
